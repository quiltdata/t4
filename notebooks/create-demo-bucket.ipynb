{
 "cells": [
  {
   "cell_type": "markdown",
   "metadata": {},
   "source": [
    "# create-demo-bucket\n",
    "\n",
    "Parts of this notebook can be run to set up and tear down T4 demo materials in a bucket.\n",
    "\n",
    "TODOs:\n",
    "* Handle ignoring files using `.quiltignore` and `set_dir`, still to be implemented, instead of manually specifying files.\n",
    "* Handle deleting files using `delete_dir`, still to be implemented.\n",
    "* Add the honey bees content demo.\n",
    "* Add other content demos as they come into fruition.\n",
    "* Move this to a shell script that automatically pulls the latest versions of the demo repositories and allows writes them to the store or clearing the store slate."
   ]
  },
  {
   "cell_type": "code",
   "execution_count": 26,
   "metadata": {},
   "outputs": [],
   "source": [
    "import t4\n",
    "import os\n",
    "import jinja2\n",
    "\n",
    "\n",
    "# bucket config\n",
    "\n",
    "# name of the bucket that you will write the demo content to\n",
    "bucket_root = \"s3://quilt-example/\"\n",
    "# subpath within that bucket to write to; if empty string will write to root\n",
    "bucket_subpath = \"\"\n",
    "# path to the README to populate, which unlike the demos isn't distributed\n",
    "# in its own repository\n",
    "readme_path = os.path.abspath('.') + '/etc/README.md'\n",
    "\n",
    "\n",
    "# demo config\n",
    "\n",
    "# path to the checked-out hurdat repo\n",
    "hurdat = \"/Users/alex/Desktop/hurdat/\"\n",
    "# path to the checked-out open-images repo\n",
    "open_images = \"/Users/alex/Desktop/open-images/\""
   ]
  },
  {
   "cell_type": "code",
   "execution_count": 19,
   "metadata": {},
   "outputs": [],
   "source": [
    "b = t4.Bucket(bucket_root)"
   ]
  },
  {
   "cell_type": "markdown",
   "metadata": {},
   "source": [
    "## top-level readme"
   ]
  },
  {
   "cell_type": "markdown",
   "metadata": {},
   "source": [
    "### create"
   ]
  },
  {
   "cell_type": "code",
   "execution_count": 61,
   "metadata": {},
   "outputs": [],
   "source": [
    "open_images_root_uri = 'https://alpha.quiltdata.com/b/' + bucket_root.replace('s3://', '') +\\\n",
    "                       'tree/' + bucket_subpath + 'open-images'\n",
    "hurdat_root_uri = 'https://alpha.quiltdata.com/b/' + bucket_root.replace('s3://', '') +\\\n",
    "                  'tree/' + bucket_subpath + 'hurdat'\n",
    "\n",
    "catalog_demo_root_uri = 'https://alpha.quiltdata.com/b/' + bucket_root.replace('s3://', '') + 'tree/features'\n",
    "\n",
    "with open(readme_path, 'r') as f:\n",
    "    template = jinja2.Template(f.read())\n",
    "\n",
    "t = template.render(\n",
    "    open_images_root=open_images_root_uri, \n",
    "    hurdat_root=hurdat_root_uri,\n",
    "    catalog_demo_root=catalog_demo_root_uri\n",
    ")\n",
    "\n",
    "with open('temp-README.md', 'w') as f:\n",
    "    f.write(t)"
   ]
  },
  {
   "cell_type": "code",
   "execution_count": 62,
   "metadata": {},
   "outputs": [
    {
     "name": "stdout",
     "output_type": "stream",
     "text": [
      "Welcome to the Quilt T4 demo catalog! This catalog provides helpful resources for getting started with T4. Here are some things you can do:\r\n",
      "\r\n",
      "* For a tour of T4 catalog features see [**the catalog demo**](https://alpha.quiltdata.com/b/quilt-example/tree/features).\r\n",
      "* To learn how to use the T4 Python API check out [**the api demo**](https://alpha.quiltdata.com/b/quilt-example/tree/hurdat).\r\n",
      "* For a demo of the T4 catalog's summarization features see the [**visualization demo**](https://alpha.quiltdata.com/b/quilt-example/tree/open-images)."
     ]
    }
   ],
   "source": [
    "!cat '/Users/alex/Desktop/t4/notebooks/temp-README.md'"
   ]
  },
  {
   "cell_type": "code",
   "execution_count": 63,
   "metadata": {},
   "outputs": [
    {
     "data": {
      "text/plain": [
       "HBox(children=(IntProgress(value=0, max=542), HTML(value='')))"
      ]
     },
     "metadata": {},
     "output_type": "display_data"
    },
    {
     "name": "stdout",
     "output_type": "stream",
     "text": [
      "\n"
     ]
    }
   ],
   "source": [
    "b.put_file('README.md', 'file:///' + os.path.abspath('.') + '/temp-README.md')"
   ]
  },
  {
   "cell_type": "code",
   "execution_count": 64,
   "metadata": {},
   "outputs": [],
   "source": [
    "os.remove('temp-README.md')"
   ]
  },
  {
   "cell_type": "markdown",
   "metadata": {},
   "source": [
    "### teardown"
   ]
  },
  {
   "cell_type": "code",
   "execution_count": 4,
   "metadata": {},
   "outputs": [],
   "source": [
    "b.delete('README.md')"
   ]
  },
  {
   "cell_type": "markdown",
   "metadata": {},
   "source": [
    "## catalog tour"
   ]
  },
  {
   "cell_type": "markdown",
   "metadata": {},
   "source": [
    "### create"
   ]
  },
  {
   "cell_type": "code",
   "execution_count": null,
   "metadata": {},
   "outputs": [],
   "source": []
  },
  {
   "cell_type": "markdown",
   "metadata": {},
   "source": [
    "## hurdat"
   ]
  },
  {
   "cell_type": "markdown",
   "metadata": {},
   "source": [
    "### create"
   ]
  },
  {
   "cell_type": "markdown",
   "metadata": {},
   "source": [
    "Take the contents of the `hurdat` path and write it to a T4 path."
   ]
  },
  {
   "cell_type": "code",
   "execution_count": 6,
   "metadata": {},
   "outputs": [
    {
     "data": {
      "text/plain": [
       "HBox(children=(IntProgress(value=0, max=141365), HTML(value='')))"
      ]
     },
     "metadata": {},
     "output_type": "display_data"
    },
    {
     "name": "stdout",
     "output_type": "stream",
     "text": [
      "\n"
     ]
    },
    {
     "data": {
      "text/plain": [
       "HBox(children=(IntProgress(value=0, max=25), HTML(value='')))"
      ]
     },
     "metadata": {},
     "output_type": "display_data"
    },
    {
     "name": "stdout",
     "output_type": "stream",
     "text": [
      "\n"
     ]
    },
    {
     "data": {
      "text/plain": [
       "HBox(children=(IntProgress(value=0, max=2908), HTML(value='')))"
      ]
     },
     "metadata": {},
     "output_type": "display_data"
    },
    {
     "name": "stdout",
     "output_type": "stream",
     "text": [
      "\n"
     ]
    }
   ],
   "source": [
    "b.put_file(bucket_subpath + 'hurdat/QuickStart.ipynb', 'file://' + hurdat + 'QuickStart.ipynb')\n",
    "# b.put_file(bucket_subpath + 'hurdat/README.md', 'file://' + hurdat + 'README.md')\n",
    "b.put_file(bucket_subpath + 'hurdat/quilt_summarize.json', 'file://' + hurdat + 'quilt_summarize.json')\n",
    "b.put_file(bucket_subpath + 'hurdat/build.py', 'file://' + hurdat + 'build.py')"
   ]
  },
  {
   "cell_type": "markdown",
   "metadata": {},
   "source": [
    "### teardown"
   ]
  },
  {
   "cell_type": "code",
   "execution_count": 7,
   "metadata": {},
   "outputs": [],
   "source": [
    "b.delete(bucket_subpath + 'hurdat/QuickStart.ipynb')\n",
    "b.delete(bucket_subpath + 'hurdat/quilt_summarize.json')\n",
    "b.delete(bucket_subpath + 'hurdat/build.py')"
   ]
  },
  {
   "cell_type": "markdown",
   "metadata": {},
   "source": [
    "## open-images"
   ]
  },
  {
   "cell_type": "markdown",
   "metadata": {},
   "source": [
    "### create"
   ]
  },
  {
   "cell_type": "code",
   "execution_count": 8,
   "metadata": {},
   "outputs": [
    {
     "data": {
      "text/plain": [
       "HBox(children=(IntProgress(value=0, max=1687), HTML(value='')))"
      ]
     },
     "metadata": {},
     "output_type": "display_data"
    },
    {
     "name": "stdout",
     "output_type": "stream",
     "text": [
      "\n"
     ]
    },
    {
     "data": {
      "text/plain": [
       "HBox(children=(IntProgress(value=0, max=114), HTML(value='')))"
      ]
     },
     "metadata": {},
     "output_type": "display_data"
    },
    {
     "name": "stdout",
     "output_type": "stream",
     "text": [
      "\n"
     ]
    },
    {
     "data": {
      "text/plain": [
       "HBox(children=(IntProgress(value=0, max=125), HTML(value='')))"
      ]
     },
     "metadata": {},
     "output_type": "display_data"
    },
    {
     "name": "stdout",
     "output_type": "stream",
     "text": [
      "\n"
     ]
    },
    {
     "data": {
      "text/plain": [
       "HBox(children=(IntProgress(value=0, max=30645), HTML(value='')))"
      ]
     },
     "metadata": {},
     "output_type": "display_data"
    },
    {
     "name": "stdout",
     "output_type": "stream",
     "text": [
      "\n"
     ]
    },
    {
     "data": {
      "text/plain": [
       "HBox(children=(IntProgress(value=0, max=4611), HTML(value='')))"
      ]
     },
     "metadata": {},
     "output_type": "display_data"
    },
    {
     "name": "stdout",
     "output_type": "stream",
     "text": [
      "\n"
     ]
    },
    {
     "data": {
      "text/plain": [
       "HBox(children=(IntProgress(value=0, max=5960), HTML(value='')))"
      ]
     },
     "metadata": {},
     "output_type": "display_data"
    },
    {
     "name": "stdout",
     "output_type": "stream",
     "text": [
      "\n"
     ]
    },
    {
     "data": {
      "text/plain": [
       "HBox(children=(IntProgress(value=0, max=3853), HTML(value='')))"
      ]
     },
     "metadata": {},
     "output_type": "display_data"
    },
    {
     "name": "stdout",
     "output_type": "stream",
     "text": [
      "\n"
     ]
    },
    {
     "data": {
      "text/plain": [
       "HBox(children=(IntProgress(value=0, max=1297), HTML(value='')))"
      ]
     },
     "metadata": {},
     "output_type": "display_data"
    },
    {
     "name": "stdout",
     "output_type": "stream",
     "text": [
      "\n"
     ]
    },
    {
     "data": {
      "text/plain": [
       "HBox(children=(IntProgress(value=0, max=4018906), HTML(value='')))"
      ]
     },
     "metadata": {},
     "output_type": "display_data"
    },
    {
     "name": "stdout",
     "output_type": "stream",
     "text": [
      "\n"
     ]
    }
   ],
   "source": [
    "b.put_file(bucket_subpath + 'open-images/README.md', 'file://' + open_images + 'README.md')\n",
    "b.put_file(bucket_subpath + 'open-images/environment.yml', 'file://' + open_images + 'environment.yml')\n",
    "b.put_file(bucket_subpath + 'open-images/quilt_summarize.json', 'file://' + open_images + 'quilt_summarize.json')\n",
    "\n",
    "b.put_file(bucket_subpath + 'open-images/notebooks/initial-exploration.ipynb', \n",
    "           'file://' + open_images + 'notebooks/initial-exploration.ipynb')\n",
    "b.put_file(bucket_subpath + 'open-images/notebooks/t4-image-metadata-push.ipynb', \n",
    "           'file://' + open_images + 'notebooks/t4-image-metadata-push.ipynb')\n",
    "b.put_file(bucket_subpath + 'open-images/notebooks/t4-summaries-push.ipynb', \n",
    "           'file://' + open_images + 'notebooks/t4-summaries-push.ipynb')\n",
    "\n",
    "b.put_file(bucket_subpath + 'open-images/summaries/image-labels-hierarchy.json', \n",
    "           'file://' + open_images + 'summaries/image-labels-hierarchy.json')\n",
    "b.put_file(bucket_subpath + 'open-images/summaries/top-image-labels.json', \n",
    "           'file://' + open_images + 'summaries/top-image-labels.json')\n",
    "\n",
    "b.put_file(bucket_subpath + 'open-images/imgs/splash.png', \n",
    "           'file://' + open_images + 'imgs/splash.png')"
   ]
  },
  {
   "cell_type": "markdown",
   "metadata": {},
   "source": [
    "### teardown"
   ]
  },
  {
   "cell_type": "code",
   "execution_count": 9,
   "metadata": {},
   "outputs": [],
   "source": [
    "b.delete(bucket_subpath + 'open-images/README.md')\n",
    "b.delete(bucket_subpath + 'open-images/environment.yml')\n",
    "b.delete(bucket_subpath + 'open-images/quilt_summarize.json')\n",
    "b.delete(bucket_subpath + 'open-images/notebooks/initial-exploration.ipynb')\n",
    "b.delete(bucket_subpath + 'open-images/notebooks/t4-image-metadata-push.ipynb')\n",
    "b.delete(bucket_subpath + 'open-images/notebooks/t4-summaries-push.ipynb')\n",
    "b.delete(bucket_subpath + 'open-images/summaries/image-labels-hierarchy.json')\n",
    "b.delete(bucket_subpath + 'open-images/summaries/top-image-labels.json')\n",
    "b.delete(bucket_subpath + 'open-images/imgs/splash.png')"
   ]
  }
 ],
 "metadata": {
  "kernelspec": {
   "display_name": "Python 3",
   "language": "python",
   "name": "python3"
  },
  "language_info": {
   "codemirror_mode": {
    "name": "ipython",
    "version": 3
   },
   "file_extension": ".py",
   "mimetype": "text/x-python",
   "name": "python",
   "nbconvert_exporter": "python",
   "pygments_lexer": "ipython3",
   "version": "3.6.6"
  }
 },
 "nbformat": 4,
 "nbformat_minor": 2
}
