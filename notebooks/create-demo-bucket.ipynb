{
 "cells": [
  {
   "cell_type": "markdown",
   "metadata": {},
   "source": [
    "# create-demo-bucket\n",
    "\n",
    "Parts of this notebook can be run to set up and tear down T4 demo materials in a bucket.\n",
    "\n",
    "TODOs:\n",
    "* Write the catalog tour demo.\n",
    "* Handle ignoring files using `.quiltignore` and `set_dir`, still to be implemented, instead of manually specifying files.\n",
    "* Handle deleting files using `delete_dir`, still to be implemented.\n",
    "* Add the honey bees content demo.\n",
    "* Add other content demos as they come into fruition.\n",
    "* Move this to a shell script that automatically pulls the latest versions of the demo repositories and allows writes them to the store or clearing the store slate."
   ]
  },
  {
   "cell_type": "code",
   "execution_count": null,
   "metadata": {},
   "outputs": [],
   "source": [
    "import t4\n",
    "import os\n",
    "import jinja2\n",
    "\n",
    "\n",
    "# bucket config\n",
    "\n",
    "# name of the bucket that you will write the demo content to\n",
    "bucket_root = \"s3://quilt-example/\"\n",
    "# subpath within that bucket to write to; if empty string will write to root\n",
    "# TODO: the open images qulit_summarize is hard coded and will break if this is not empty string\n",
    "bucket_subpath = \"\"\n",
    "# path to the README to populate, which unlike the demos isn't distributed\n",
    "# in its own repository\n",
    "readme_path = os.path.abspath('.') + '/etc/README.md'\n",
    "\n",
    "\n",
    "# demo config\n",
    "\n",
    "# path to the checked-out hurdat repo\n",
    "hurdat = \"/Users/alex/Desktop/hurdat/\"\n",
    "# path to the checked-out open-images repo\n",
    "open_images = \"/Users/alex/Desktop/open-images/\""
   ]
  },
  {
   "cell_type": "code",
   "execution_count": null,
   "metadata": {},
   "outputs": [],
   "source": [
    "b = t4.Bucket(bucket_root)"
   ]
  },
  {
   "cell_type": "markdown",
   "metadata": {},
   "source": [
    "## top-level readme"
   ]
  },
  {
   "cell_type": "markdown",
   "metadata": {},
   "source": [
    "### create"
   ]
  },
  {
   "cell_type": "code",
   "execution_count": null,
   "metadata": {},
   "outputs": [],
   "source": [
    "open_images_root_uri = 'https://alpha.quiltdata.com/b/' + bucket_root.replace('s3://', '') +\\\n",
    "                       'tree/' + bucket_subpath + 'open-images/'\n",
    "hurdat_root_uri = 'https://alpha.quiltdata.com/b/' + bucket_root.replace('s3://', '') +\\\n",
    "                  'tree/' + bucket_subpath + 'hurdat/'\n",
    "\n",
    "catalog_demo_root_uri = 'https://alpha.quiltdata.com/b/' + bucket_root.replace('s3://', '') + 'tree/features'\n",
    "\n",
    "with open(readme_path, 'r') as f:\n",
    "    template = jinja2.Template(f.read())\n",
    "\n",
    "t = template.render(\n",
    "    open_images_root=open_images_root_uri, \n",
    "    hurdat_root=hurdat_root_uri,\n",
    "    catalog_demo_root=catalog_demo_root_uri\n",
    ")\n",
    "\n",
    "with open('temp-README.md', 'w') as f:\n",
    "    f.write(t)"
   ]
  },
  {
   "cell_type": "code",
   "execution_count": null,
   "metadata": {},
   "outputs": [],
   "source": [
    "!cat '/Users/alex/Desktop/t4/notebooks/temp-README.md'"
   ]
  },
  {
   "cell_type": "code",
   "execution_count": null,
   "metadata": {},
   "outputs": [],
   "source": [
    "b.put_file('README.md', 'file:///' + os.path.abspath('.') + '/temp-README.md')"
   ]
  },
  {
   "cell_type": "code",
   "execution_count": null,
   "metadata": {},
   "outputs": [],
   "source": [
    "os.remove('temp-README.md')"
   ]
  },
  {
   "cell_type": "markdown",
   "metadata": {},
   "source": [
    "### teardown"
   ]
  },
  {
   "cell_type": "code",
   "execution_count": null,
   "metadata": {},
   "outputs": [],
   "source": [
    "b.delete('README.md')"
   ]
  },
  {
   "cell_type": "markdown",
   "metadata": {},
   "source": [
    "## catalog tour"
   ]
  },
  {
   "cell_type": "markdown",
   "metadata": {},
   "source": [
    "### create"
   ]
  },
  {
   "cell_type": "code",
   "execution_count": null,
   "metadata": {},
   "outputs": [],
   "source": [
    "b.put_file(bucket_subpath + 'features/catalog-tour.md', \n",
    "           'file://' + os.path.abspath('.')  + '/etc/catalog-tour.md')\n",
    "b.put_file(bucket_subpath + 'features/quilt_summarize.json', \n",
    "           'file://' + os.path.abspath('.')  + '/etc/quilt_summarize.json')"
   ]
  },
  {
   "cell_type": "markdown",
   "metadata": {},
   "source": [
    "### teardown"
   ]
  },
  {
   "cell_type": "code",
   "execution_count": null,
   "metadata": {},
   "outputs": [],
   "source": [
    "b.delete(bucket_subpath + 'features/catalog-tour.md')\n",
    "b.delete(bucket_subpath + 'features/quilt_summarize.json')"
   ]
  },
  {
   "cell_type": "markdown",
   "metadata": {},
   "source": [
    "## hurdat"
   ]
  },
  {
   "cell_type": "markdown",
   "metadata": {},
   "source": [
    "### create"
   ]
  },
  {
   "cell_type": "markdown",
   "metadata": {},
   "source": [
    "Take the contents of the `hurdat` path and write it to a T4 path."
   ]
  },
  {
   "cell_type": "code",
   "execution_count": null,
   "metadata": {},
   "outputs": [],
   "source": [
    "b.put_file(bucket_subpath + 'hurdat/QuickStart.ipynb', 'file://' + hurdat + 'QuickStart.ipynb')\n",
    "# b.put_file(bucket_subpath + 'hurdat/README.md', 'file://' + hurdat + 'README.md')\n",
    "b.put_file(bucket_subpath + 'hurdat/quilt_summarize.json', 'file://' + hurdat + 'quilt_summarize.json')\n",
    "b.put_file(bucket_subpath + 'hurdat/build.py', 'file://' + hurdat + 'build.py')"
   ]
  },
  {
   "cell_type": "markdown",
   "metadata": {},
   "source": [
    "### teardown"
   ]
  },
  {
   "cell_type": "code",
   "execution_count": null,
   "metadata": {},
   "outputs": [],
   "source": [
    "b.delete(bucket_subpath + 'hurdat/QuickStart.ipynb')\n",
    "b.delete(bucket_subpath + 'hurdat/quilt_summarize.json')\n",
    "b.delete(bucket_subpath + 'hurdat/build.py')"
   ]
  },
  {
   "cell_type": "markdown",
   "metadata": {},
   "source": [
    "## open-images"
   ]
  },
  {
   "cell_type": "markdown",
   "metadata": {},
   "source": [
    "### create"
   ]
  },
  {
   "cell_type": "code",
   "execution_count": null,
   "metadata": {},
   "outputs": [],
   "source": [
    "bucket_subpath + 'data/summaries/image-labels-transformed.json'"
   ]
  },
  {
   "cell_type": "code",
   "execution_count": null,
   "metadata": {},
   "outputs": [],
   "source": [
    "b.put_file(bucket_subpath + 'open-images/README.md', 'file://' + open_images + 'README.md')\n",
    "b.put_file(bucket_subpath + 'open-images/environment.yml', 'file://' + open_images + 'environment.yml')\n",
    "b.put_file(bucket_subpath + 'open-images/quilt_summarize.json', 'file://' + open_images + 'quilt_summarize.json')\n",
    "\n",
    "b.put_file(bucket_subpath + 'open-images/notebooks/initial-exploration.ipynb', \n",
    "           'file://' + open_images + 'notebooks/initial-exploration.ipynb')\n",
    "b.put_file(bucket_subpath + 'open-images/notebooks/t4-image-metadata-push.ipynb', \n",
    "           'file://' + open_images + 'notebooks/t4-image-metadata-push.ipynb')\n",
    "b.put_file(bucket_subpath + 'open-images/notebooks/t4-summaries-push.ipynb', \n",
    "           'file://' + open_images + 'notebooks/t4-summaries-push.ipynb')\n",
    "\n",
    "b.put_file(bucket_subpath + 'open-images/summaries/image-labels-hierarchy.json', \n",
    "           'file://' + open_images + 'summaries/image-labels-hierarchy.json')\n",
    "b.put_file(bucket_subpath + 'open-images/summaries/top-image-labels.json', \n",
    "           'file://' + open_images + 'summaries/top-image-labels.json')\n",
    "\n",
    "b.put_file(bucket_subpath + 'open-images/imgs/splash.png', \n",
    "           'file://' + open_images + 'imgs/splash.png')\n",
    "b.put_file(bucket_subpath + 'open-images/data/challenge2018/6539bc9ee0a6e4a4.jpg',\n",
    "           'file://' + open_images + 'data/challenge2018/6539bc9ee0a6e4a4.jpg')\n",
    "\n",
    "b.put_file(bucket_subpath + 'open-images/data/summaries/image-labels-transformed.json',\n",
    "           'file://' + open_images + 'data/summaries/image-labels-transformed.json')\n",
    "b.put_file(bucket_subpath + 'open-images/data/summaries/top-image-labels.csv',\n",
    "           'file://' + open_images + 'data/summaries/top-image-labels.csv')"
   ]
  },
  {
   "cell_type": "markdown",
   "metadata": {},
   "source": [
    "### teardown"
   ]
  },
  {
   "cell_type": "code",
   "execution_count": null,
   "metadata": {},
   "outputs": [],
   "source": [
    "b.delete(bucket_subpath + 'open-images/README.md')\n",
    "b.delete(bucket_subpath + 'open-images/environment.yml')\n",
    "b.delete(bucket_subpath + 'open-images/quilt_summarize.json')\n",
    "b.delete(bucket_subpath + 'open-images/notebooks/initial-exploration.ipynb')\n",
    "b.delete(bucket_subpath + 'open-images/notebooks/t4-image-metadata-push.ipynb')\n",
    "b.delete(bucket_subpath + 'open-images/notebooks/t4-summaries-push.ipynb')\n",
    "b.delete(bucket_subpath + 'open-images/summaries/image-labels-hierarchy.json')\n",
    "b.delete(bucket_subpath + 'open-images/summaries/top-image-labels.json')\n",
    "b.delete(bucket_subpath + 'open-images/imgs/splash.png')\n",
    "b.delete(bucket_subpath + 'open-images/data/summaries/image-labels-transformed.json')\n",
    "b.delete(bucket_subpath + 'open-images/data/summaries/top-image-labels.csv')"
   ]
  }
 ],
 "metadata": {
  "kernelspec": {
   "display_name": "Python 3",
   "language": "python",
   "name": "python3"
  },
  "language_info": {
   "codemirror_mode": {
    "name": "ipython",
    "version": 3
   },
   "file_extension": ".py",
   "mimetype": "text/x-python",
   "name": "python",
   "nbconvert_exporter": "python",
   "pygments_lexer": "ipython3",
   "version": "3.6.6"
  }
 },
 "nbformat": 4,
 "nbformat_minor": 2
}
