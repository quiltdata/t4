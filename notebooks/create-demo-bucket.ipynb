{
 "cells": [
  {
   "cell_type": "markdown",
   "metadata": {},
   "source": [
    "# create-demo-bucket\n",
    "\n",
    "Parts of this notebook can be run to set up and tear down T4 demo materials in a bucket.\n",
    "\n",
    "TODOs:\n",
    "* Handle ignoring files using `.quiltignore` and `set_dir`, still to be implemented, instead of manually specifying files.\n",
    "* Handle deleting files using `delete_dir`, still to be implemented.\n",
    "* Add the honey bees content demo.\n",
    "* Add other content demos as they come into fruition.\n",
    "* Move this to a shell script that automatically pulls the latest versions of the demo repositories and allows writes them to the store or clearing the store slate."
   ]
  },
  {
   "cell_type": "code",
   "execution_count": 1,
   "metadata": {},
   "outputs": [],
   "source": [
    "import t4\n",
    "import os\n",
    "\n",
    "\n",
    "# bucket config\n",
    "\n",
    "# name of the bucket that you will write the demo content to\n",
    "bucket_root = \"s3://alpha-quilt-storage/\"\n",
    "# subpath within that bucket to write to; if empty string will write to root\n",
    "bucket_subpath = \"demos/\"\n",
    "# path to the README to populate, which unlike the demos isn't distributed\n",
    "# in its own repository\n",
    "readme_path = os.path.abspath('.') + '/README.md'\n",
    "\n",
    "\n",
    "# demo config\n",
    "\n",
    "# path to the checked-out hurdat repo\n",
    "hurdat = \"/Users/alex/Desktop/hurdat/\"\n",
    "# path to the checked-out open-images repo\n",
    "open_images = \"/Users/alex/Desktop/open-images/\""
   ]
  },
  {
   "cell_type": "code",
   "execution_count": 2,
   "metadata": {},
   "outputs": [],
   "source": [
    "bucket_path = bucket_root + bucket_subpath\n",
    "b = t4.Bucket(bucket_root)"
   ]
  },
  {
   "cell_type": "markdown",
   "metadata": {},
   "source": [
    "## top-level readme"
   ]
  },
  {
   "cell_type": "markdown",
   "metadata": {},
   "source": [
    "### create"
   ]
  },
  {
   "cell_type": "code",
   "execution_count": 3,
   "metadata": {},
   "outputs": [
    {
     "data": {
      "application/vnd.jupyter.widget-view+json": {
       "model_id": "d623c40f76ba459fb5d7eeeefba9f3b7",
       "version_major": 2,
       "version_minor": 0
      },
      "text/plain": [
       "HBox(children=(IntProgress(value=0, max=472), HTML(value='')))"
      ]
     },
     "metadata": {},
     "output_type": "display_data"
    },
    {
     "name": "stdout",
     "output_type": "stream",
     "text": [
      "\n"
     ]
    }
   ],
   "source": [
    "b.put_file('README.md', 'file:///' + readme_path)"
   ]
  },
  {
   "cell_type": "markdown",
   "metadata": {},
   "source": [
    "### teardown"
   ]
  },
  {
   "cell_type": "code",
   "execution_count": 4,
   "metadata": {},
   "outputs": [],
   "source": [
    "b.delete('README.md')"
   ]
  },
  {
   "cell_type": "markdown",
   "metadata": {},
   "source": [
    "## hurdat"
   ]
  },
  {
   "cell_type": "markdown",
   "metadata": {},
   "source": [
    "### create"
   ]
  },
  {
   "cell_type": "markdown",
   "metadata": {},
   "source": [
    "Take the contents of the `hurdat` path and write it to a T4 path."
   ]
  },
  {
   "cell_type": "code",
   "execution_count": 6,
   "metadata": {},
   "outputs": [
    {
     "data": {
      "application/vnd.jupyter.widget-view+json": {
       "model_id": "d30d9878576b46c7adc299f262401b96",
       "version_major": 2,
       "version_minor": 0
      },
      "text/plain": [
       "HBox(children=(IntProgress(value=0, max=141365), HTML(value='')))"
      ]
     },
     "metadata": {},
     "output_type": "display_data"
    },
    {
     "name": "stdout",
     "output_type": "stream",
     "text": [
      "\n"
     ]
    },
    {
     "data": {
      "application/vnd.jupyter.widget-view+json": {
       "model_id": "7e3ac99563ba4613b6220730b1796dd7",
       "version_major": 2,
       "version_minor": 0
      },
      "text/plain": [
       "HBox(children=(IntProgress(value=0, max=25), HTML(value='')))"
      ]
     },
     "metadata": {},
     "output_type": "display_data"
    },
    {
     "name": "stdout",
     "output_type": "stream",
     "text": [
      "\n"
     ]
    },
    {
     "data": {
      "application/vnd.jupyter.widget-view+json": {
       "model_id": "732f3f797d6d4042b40a27fa1133be04",
       "version_major": 2,
       "version_minor": 0
      },
      "text/plain": [
       "HBox(children=(IntProgress(value=0, max=2908), HTML(value='')))"
      ]
     },
     "metadata": {},
     "output_type": "display_data"
    },
    {
     "name": "stdout",
     "output_type": "stream",
     "text": [
      "\n"
     ]
    }
   ],
   "source": [
    "b.put_file(bucket_subpath + 'hurdat/QuickStart.ipynb', 'file://' + hurdat + 'QuickStart.ipynb')\n",
    "# b.put_file(bucket_subpath + 'hurdat/README.md', 'file://' + hurdat + 'README.md')\n",
    "b.put_file(bucket_subpath + 'hurdat/quilt_summarize.json', 'file://' + hurdat + 'quilt_summarize.json')\n",
    "b.put_file(bucket_subpath + 'hurdat/build.py', 'file://' + hurdat + 'build.py')"
   ]
  },
  {
   "cell_type": "markdown",
   "metadata": {},
   "source": [
    "### teardown"
   ]
  },
  {
   "cell_type": "code",
   "execution_count": 7,
   "metadata": {},
   "outputs": [],
   "source": [
    "b.delete(bucket_subpath + 'hurdat/QuickStart.ipynb')\n",
    "b.delete(bucket_subpath + 'hurdat/quilt_summarize.json')\n",
    "b.delete(bucket_subpath + 'hurdat/build.py')"
   ]
  },
  {
   "cell_type": "markdown",
   "metadata": {},
   "source": [
    "## open-images"
   ]
  },
  {
   "cell_type": "markdown",
   "metadata": {},
   "source": [
    "### create"
   ]
  },
  {
   "cell_type": "code",
   "execution_count": 8,
   "metadata": {},
   "outputs": [
    {
     "data": {
      "application/vnd.jupyter.widget-view+json": {
       "model_id": "2021687c9d5c44c39d35b2e57dff69c1",
       "version_major": 2,
       "version_minor": 0
      },
      "text/plain": [
       "HBox(children=(IntProgress(value=0, max=1687), HTML(value='')))"
      ]
     },
     "metadata": {},
     "output_type": "display_data"
    },
    {
     "name": "stdout",
     "output_type": "stream",
     "text": [
      "\n"
     ]
    },
    {
     "data": {
      "application/vnd.jupyter.widget-view+json": {
       "model_id": "c2580b46955e47dd82106530299e49cc",
       "version_major": 2,
       "version_minor": 0
      },
      "text/plain": [
       "HBox(children=(IntProgress(value=0, max=114), HTML(value='')))"
      ]
     },
     "metadata": {},
     "output_type": "display_data"
    },
    {
     "name": "stdout",
     "output_type": "stream",
     "text": [
      "\n"
     ]
    },
    {
     "data": {
      "application/vnd.jupyter.widget-view+json": {
       "model_id": "03e4b372c7034f1a806514fc134ec6ce",
       "version_major": 2,
       "version_minor": 0
      },
      "text/plain": [
       "HBox(children=(IntProgress(value=0, max=125), HTML(value='')))"
      ]
     },
     "metadata": {},
     "output_type": "display_data"
    },
    {
     "name": "stdout",
     "output_type": "stream",
     "text": [
      "\n"
     ]
    },
    {
     "data": {
      "application/vnd.jupyter.widget-view+json": {
       "model_id": "31395856034b444e9dbeaa10881d81c2",
       "version_major": 2,
       "version_minor": 0
      },
      "text/plain": [
       "HBox(children=(IntProgress(value=0, max=30645), HTML(value='')))"
      ]
     },
     "metadata": {},
     "output_type": "display_data"
    },
    {
     "name": "stdout",
     "output_type": "stream",
     "text": [
      "\n"
     ]
    },
    {
     "data": {
      "application/vnd.jupyter.widget-view+json": {
       "model_id": "ca085e59387641bea8ed9085d2a2456d",
       "version_major": 2,
       "version_minor": 0
      },
      "text/plain": [
       "HBox(children=(IntProgress(value=0, max=4611), HTML(value='')))"
      ]
     },
     "metadata": {},
     "output_type": "display_data"
    },
    {
     "name": "stdout",
     "output_type": "stream",
     "text": [
      "\n"
     ]
    },
    {
     "data": {
      "application/vnd.jupyter.widget-view+json": {
       "model_id": "34794c2ddfb84e6d87cba6a52189c227",
       "version_major": 2,
       "version_minor": 0
      },
      "text/plain": [
       "HBox(children=(IntProgress(value=0, max=5960), HTML(value='')))"
      ]
     },
     "metadata": {},
     "output_type": "display_data"
    },
    {
     "name": "stdout",
     "output_type": "stream",
     "text": [
      "\n"
     ]
    },
    {
     "data": {
      "application/vnd.jupyter.widget-view+json": {
       "model_id": "a3f9cf40fe774fed87aac9f7c147cc51",
       "version_major": 2,
       "version_minor": 0
      },
      "text/plain": [
       "HBox(children=(IntProgress(value=0, max=3853), HTML(value='')))"
      ]
     },
     "metadata": {},
     "output_type": "display_data"
    },
    {
     "name": "stdout",
     "output_type": "stream",
     "text": [
      "\n"
     ]
    },
    {
     "data": {
      "application/vnd.jupyter.widget-view+json": {
       "model_id": "2b1b2940950f413797d54ca0705860ef",
       "version_major": 2,
       "version_minor": 0
      },
      "text/plain": [
       "HBox(children=(IntProgress(value=0, max=1297), HTML(value='')))"
      ]
     },
     "metadata": {},
     "output_type": "display_data"
    },
    {
     "name": "stdout",
     "output_type": "stream",
     "text": [
      "\n"
     ]
    },
    {
     "data": {
      "application/vnd.jupyter.widget-view+json": {
       "model_id": "b024f5749aac49098d222627c965f7a3",
       "version_major": 2,
       "version_minor": 0
      },
      "text/plain": [
       "HBox(children=(IntProgress(value=0, max=4018906), HTML(value='')))"
      ]
     },
     "metadata": {},
     "output_type": "display_data"
    },
    {
     "name": "stdout",
     "output_type": "stream",
     "text": [
      "\n"
     ]
    }
   ],
   "source": [
    "b.put_file(bucket_subpath + 'open-images/README.md', 'file://' + open_images + 'README.md')\n",
    "b.put_file(bucket_subpath + 'open-images/environment.yml', 'file://' + open_images + 'environment.yml')\n",
    "b.put_file(bucket_subpath + 'open-images/quilt_summarize.json', 'file://' + open_images + 'quilt_summarize.json')\n",
    "\n",
    "b.put_file(bucket_subpath + 'open-images/notebooks/initial-exploration.ipynb', \n",
    "           'file://' + open_images + 'notebooks/initial-exploration.ipynb')\n",
    "b.put_file(bucket_subpath + 'open-images/notebooks/t4-image-metadata-push.ipynb', \n",
    "           'file://' + open_images + 'notebooks/t4-image-metadata-push.ipynb')\n",
    "b.put_file(bucket_subpath + 'open-images/notebooks/t4-summaries-push.ipynb', \n",
    "           'file://' + open_images + 'notebooks/t4-summaries-push.ipynb')\n",
    "\n",
    "b.put_file(bucket_subpath + 'open-images/summaries/image-labels-hierarchy.json', \n",
    "           'file://' + open_images + 'summaries/image-labels-hierarchy.json')\n",
    "b.put_file(bucket_subpath + 'open-images/summaries/top-image-labels.json', \n",
    "           'file://' + open_images + 'summaries/top-image-labels.json')\n",
    "\n",
    "b.put_file(bucket_subpath + 'open-images/imgs/splash.png', \n",
    "           'file://' + open_images + 'imgs/splash.png')"
   ]
  },
  {
   "cell_type": "markdown",
   "metadata": {},
   "source": [
    "### teardown"
   ]
  },
  {
   "cell_type": "code",
   "execution_count": 9,
   "metadata": {},
   "outputs": [],
   "source": [
    "b.delete(bucket_subpath + 'open-images/README.md')\n",
    "b.delete(bucket_subpath + 'open-images/environment.yml')\n",
    "b.delete(bucket_subpath + 'open-images/quilt_summarize.json')\n",
    "b.delete(bucket_subpath + 'open-images/notebooks/initial-exploration.ipynb')\n",
    "b.delete(bucket_subpath + 'open-images/notebooks/t4-image-metadata-push.ipynb')\n",
    "b.delete(bucket_subpath + 'open-images/notebooks/t4-summaries-push.ipynb')\n",
    "b.delete(bucket_subpath + 'open-images/summaries/image-labels-hierarchy.json')\n",
    "b.delete(bucket_subpath + 'open-images/summaries/top-image-labels.json')\n",
    "b.delete(bucket_subpath + 'open-images/imgs/splash.png')"
   ]
  }
 ],
 "metadata": {
  "kernelspec": {
   "display_name": "Python 3",
   "language": "python",
   "name": "python3"
  },
  "language_info": {
   "codemirror_mode": {
    "name": "ipython",
    "version": 3
   },
   "file_extension": ".py",
   "mimetype": "text/x-python",
   "name": "python",
   "nbconvert_exporter": "python",
   "pygments_lexer": "ipython3",
   "version": "3.6.6"
  }
 },
 "nbformat": 4,
 "nbformat_minor": 2
}
