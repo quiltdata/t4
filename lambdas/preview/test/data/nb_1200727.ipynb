{
 "cells": [
  {
   "cell_type": "markdown",
   "metadata": {},
   "source": [
    "# SVD of Minute-Market-Data\n",
    "### Dan Schmidt's Script Fall 2016"
   ]
  },
  {
   "cell_type": "code",
   "execution_count": 2,
   "metadata": {
    "collapsed": false
   },
   "outputs": [
    {
     "name": "stdout",
     "output_type": "stream",
     "text": [
      "The autoreload extension is already loaded. To reload it, use:\n",
      "  %reload_ext autoreload\n"
     ]
    }
   ],
   "source": [
    "%reload_ext autoreload\n",
    "%load_ext autoreload\n",
    "%autoreload 2\n",
    "import os\n",
    "import sys\n",
    "\n",
    "# add the 'src' directory as one where we can import modules\n",
    "src_dir = os.path.join(os.getcwd(), os.pardir, 'src')\n",
    "sys.path.append(src_dir)\n",
    "%aimport preprocess\n",
    "from preprocess.process import get_symbol\n",
    "from preprocess.process import get_symbols_matrix\n",
    "from preprocess.process import df_to_returns\n",
    "\n",
    "import pandas as pd\n",
    "import numpy as np\n",
    "import matplotlib.pyplot as plt\n",
    "import os.path\n",
    "from IPython.core.debugger import Tracer\n",
    "import scipy as sp\n",
    "from scipy.linalg import svd\n",
    "from sklearn.decomposition import PCA\n",
    "%matplotlib inline"
   ]
  },
  {
   "cell_type": "markdown",
   "metadata": {},
   "source": [
    "### Preprocessing\n",
    "Read the data in, convert dates to a useful format"
   ]
  },
  {
   "cell_type": "code",
   "execution_count": 3,
   "metadata": {
    "collapsed": false
   },
   "outputs": [
    {
     "name": "stdout",
     "output_type": "stream",
     "text": [
      "['SEE', 'SE', 'SHW', 'SIG', 'SJM', 'SLB', 'SLG', 'SNA', 'SNI', 'SO', 'SPGI', 'SPG', 'SPLS', 'SRCL', 'SRE', 'STI', 'STJ', 'STT', 'STX', 'STZ', 'SWKS', 'SWK', 'SWN', 'SYF', 'SYK', 'SYMC', 'SYY', 'TAP', 'TDC', 'TDG', 'TEL', 'TGNA', 'TGT', 'TIF', 'TJX', 'TMK', 'TMO', 'TRIP', 'TROW', 'TRV', 'TSCO', 'TSN', 'TSO', 'TSS', 'TWX', 'TXN', 'TXT', 'T', 'UAL', 'UA', 'UDR', 'UHS', 'ULTA', 'UNH', 'UNM', 'UNP', 'UPS', 'URBN', 'URI', 'USB', 'UTX', 'VAR', 'VFC', 'VIAB', 'VLO', 'VMC', 'VNO', 'VRSK', 'VRSN', 'VRTX', 'VTR', 'V', 'VZ', 'WAT', 'WBA', 'WDC', 'WEC', 'WFC', 'WFM', 'WHR', 'WLTW', 'WMB', 'WMT', 'WM', 'WRK', 'WU', 'WYNN', 'WYN', 'WY', 'XEC', 'XEL', 'XLNX', 'XL', 'XOM', 'XRAY', 'XRX', 'XYL', 'YHOO', 'YUM', 'ZBH', 'ZION', 'ZTS']\n",
      "Reading SEE from pickle\n",
      "SEE failed integrity check\n",
      "Reading SE from pickle\n",
      "Reading SHW from pickle\n",
      "SHW failed integrity check\n",
      "Reading SIG from pickle\n",
      "SIG failed integrity check\n",
      "Reading SJM from pickle\n",
      "SJM failed integrity check\n",
      "Reading SLB from pickle\n",
      "Reading SLG from pickle\n",
      "SLG failed integrity check\n",
      "Reading SNA from pickle\n",
      "SNA failed integrity check\n",
      "Reading SNI from pickle\n",
      "SNI failed integrity check\n",
      "Reading SO from pickle\n",
      "Reading SPGI from pickle\n",
      "SPGI failed integrity check\n",
      "Reading SPG from pickle\n",
      "SPG failed integrity check\n",
      "Reading SPLS from pickle\n",
      "Reading SRCL from pickle\n",
      "SRCL failed integrity check\n",
      "Reading SRE from pickle\n",
      "SRE failed integrity check\n",
      "Reading STI from pickle\n",
      "Reading STJ from pickle\n",
      "STJ failed integrity check\n",
      "Reading STT from pickle\n",
      "Reading STX from pickle\n",
      "Reading STZ from pickle\n",
      "STZ failed integrity check\n",
      "Reading SWKS from pickle\n",
      "Reading SWK from pickle\n",
      "SWK failed integrity check\n",
      "Reading SWN from pickle\n",
      "Reading SYF from pickle\n",
      "SYF failed integrity check\n",
      "Reading SYK from pickle\n",
      "SYK failed integrity check\n",
      "Reading SYMC from pickle\n",
      "Reading SYY from pickle\n",
      "Reading TAP from pickle\n",
      "TAP failed integrity check\n",
      "Reading TDC from pickle\n",
      "TDC failed integrity check\n",
      "Reading TDG from pickle\n",
      "TDG failed integrity check\n",
      "Reading TEL from pickle\n",
      "TEL failed integrity check\n",
      "Reading TGNA from pickle\n",
      "TGNA failed integrity check\n",
      "Reading TGT from pickle\n",
      "Reading TIF from pickle\n",
      "TIF failed integrity check\n",
      "Reading TJX from pickle\n",
      "Reading TMK from pickle\n",
      "TMK failed integrity check\n",
      "Reading TMO from pickle\n",
      "TMO failed integrity check\n",
      "Reading TRIP from pickle\n",
      "TRIP failed integrity check\n",
      "Reading TROW from pickle\n",
      "TROW failed integrity check\n",
      "Reading TRV from pickle\n",
      "Reading TSCO from pickle\n",
      "TSCO failed integrity check\n",
      "Reading TSN from pickle\n",
      "Reading TSO from pickle\n",
      "Reading TSS from pickle\n",
      "TSS failed integrity check\n",
      "Reading TWX from pickle\n",
      "Reading TXN from pickle\n",
      "Reading TXT from pickle\n",
      "TXT failed integrity check\n",
      "Dumped  T  to pickle\n",
      "Dumped  UAL  to pickle\n",
      "Dumped  UA  to pickle\n",
      "UA failed integrity check\n",
      "Dumped  UDR  to pickle\n",
      "UDR failed integrity check\n",
      "Dumped  UHS  to pickle\n",
      "UHS failed integrity check\n",
      "Dumped  ULTA  to pickle\n",
      "ULTA failed integrity check\n",
      "Dumped  UNH  to pickle\n",
      "Dumped  UNM  to pickle\n",
      "UNM failed integrity check\n",
      "Dumped  UNP  to pickle\n",
      "Dumped  UPS  to pickle\n",
      "Dumped  URBN  to pickle\n",
      "URBN failed integrity check\n",
      "Dumped  URI  to pickle\n",
      "URI failed integrity check\n",
      "Dumped  USB  to pickle\n",
      "Dumped  UTX  to pickle\n",
      "Dumped  VAR  to pickle\n",
      "VAR failed integrity check\n",
      "Dumped  VFC  to pickle\n",
      "VFC failed integrity check\n",
      "Dumped  VIAB  to pickle\n",
      "Dumped  VLO  to pickle\n",
      "Dumped  VMC  to pickle\n",
      "VMC failed integrity check\n",
      "Dumped  VNO  to pickle\n",
      "VNO failed integrity check\n",
      "Dumped  VRSK  to pickle\n",
      "VRSK failed integrity check\n",
      "Dumped  VRSN  to pickle\n",
      "VRSN failed integrity check\n",
      "Dumped  VRTX  to pickle\n",
      "VRTX failed integrity check\n",
      "Dumped  VTR  to pickle\n",
      "Dumped  V  to pickle\n",
      "Dumped  VZ  to pickle\n",
      "Dumped  WAT  to pickle\n",
      "WAT failed integrity check\n",
      "Dumped  WBA  to pickle\n",
      "Dumped  WDC  to pickle\n",
      "WDC failed integrity check\n",
      "Dumped  WEC  to pickle\n",
      "WEC failed integrity check\n",
      "Dumped  WFC  to pickle\n",
      "Dumped  WFM  to pickle\n",
      "Dumped  WHR  to pickle\n",
      "WHR failed integrity check\n",
      "Dumped  WLTW  to pickle\n",
      "Dumped  WMB  to pickle\n",
      "Dumped  WMT  to pickle\n",
      "Dumped  WM  to pickle\n",
      "Dumped  WRK  to pickle\n",
      "Dumped  WU  to pickle\n",
      "Dumped  WYNN  to pickle\n",
      "Dumped  WYN  to pickle\n",
      "WYN failed integrity check\n",
      "Dumped  WY  to pickle\n",
      "Dumped  XEC  to pickle\n",
      "XEC failed integrity check\n",
      "Dumped  XEL  to pickle\n",
      "Dumped  XLNX  to pickle\n",
      "Dumped  XL  to pickle\n",
      "XL failed integrity check\n",
      "Dumped  XOM  to pickle\n",
      "Dumped  XRAY  to pickle\n",
      "XRAY failed integrity check\n",
      "Dumped  XRX  to pickle\n",
      "Dumped  XYL  to pickle\n",
      "XYL failed integrity check\n",
      "Dumped  YHOO  to pickle\n",
      "Dumped  YUM  to pickle\n",
      "Dumped  ZBH  to pickle\n",
      "ZBH failed integrity check\n",
      "Dumped  ZION  to pickle\n",
      "ZION failed integrity check\n",
      "Dumped  ZTS  to pickle\n"
     ]
    }
   ],
   "source": [
    "data_loc = \"/home/dan/code/market_data/\"\n",
    "symbols = [line.rstrip('\\n') for line in open(data_loc+'sp500.txt')]\n",
    "\n",
    "# Running the SVD on two weeks in 2015, check error on next week\n",
    "train_start_date = \"03/02/2015\"\n",
    "train_end_date = \"03/14/2015\"\n",
    "\n",
    "test_start_date = \"03/15/2015\"\n",
    "test_end_date = \"03/21/2015\"\n",
    "\n",
    "#aapl = get_symbol(\"AAPL\", data_loc, train_start_date, train_end_date)\n",
    "\n",
    "test_symbols = symbols[400:]\n",
    "print(test_symbols)\n",
    "\n",
    "test_mat, syms = get_symbols_matrix(\n",
    "    test_symbols, data_loc, train_start_date, train_end_date\n",
    ")"
   ]
  },
  {
   "cell_type": "code",
   "execution_count": 4,
   "metadata": {
    "collapsed": false
   },
   "outputs": [
    {
     "name": "stdout",
     "output_type": "stream",
     "text": [
      "(48, 3893)\n"
     ]
    }
   ],
   "source": [
    "X = test_mat.values.T\n",
    "\n",
    "# Remove the mean (which roughly removes linear 2-week trend)\n",
    "Xmean = X.mean(axis=0)\n",
    "Xd = X-Xmean\n",
    "#Xd = X\n",
    "\n",
    "print(Xd.shape)\n",
    "# Try the SVD\n",
    "U, S, VT = svd(X)"
   ]
  },
  {
   "cell_type": "code",
   "execution_count": 5,
   "metadata": {
    "collapsed": false,
    "scrolled": true
   },
   "outputs": [
    {
     "name": "stdout",
     "output_type": "stream",
     "text": [
      "(48, 48)\n",
      "(48,)\n",
      "(3893, 3893)\n",
      "(3893,)\n"
     ]
    }
   ],
   "source": [
    "print(U.shape)\n",
    "print(S.shape)\n",
    "print(VT.shape)\n",
    "print(Xmean.shape)\n"
   ]
  },
  {
   "cell_type": "code",
   "execution_count": 6,
   "metadata": {
    "collapsed": false
   },
   "outputs": [
    {
     "data": {
      "image/png": "[encoded data removed]",
      "text/plain": [
       "<matplotlib.figure.Figure at 0x7fd3c118ee10>"
      ]
     },
     "metadata": {},
     "output_type": "display_data"
    },
    {
     "data": {
      "image/png": "[encoded data removed]",
      "text/plain": [
       "<matplotlib.figure.Figure at 0x7fd3bd5c2f28>"
      ]
     },
     "metadata": {},
     "output_type": "display_data"
    },
    {
     "name": "stdout",
     "output_type": "stream",
     "text": [
      "Reading SPY from pickle\n"
     ]
    },
    {
     "data": {
      "image/png": "[encoded data removed]",
      "text/plain": [
       "<matplotlib.figure.Figure at 0x7fd3bd542748>"
      ]
     },
     "metadata": {},
     "output_type": "display_data"
    }
   ],
   "source": [
    "pca = PCA(svd_solver='randomized')\n",
    "pca.fit(Xd)\n",
    "\n",
    "plt.plot(pca.explained_variance_)\n",
    "plt.show()\n",
    "\n",
    "market = pca.components_[0, :]\n",
    "plt.plot( (1+(Xmean)).cumprod() )\n",
    "plt.show()\n",
    "\n",
    "# compare to actual market\n",
    "spy = get_symbol(\"SPY\", data_loc, train_start_date, train_end_date)\n",
    "\n",
    "plt.plot(spy['Close'].values)\n",
    "plt.show()"
   ]
  },
  {
   "cell_type": "code",
   "execution_count": null,
   "metadata": {
    "collapsed": false
   },
   "outputs": [],
   "source": []
  },
  {
   "cell_type": "code",
   "execution_count": 8,
   "metadata": {
    "collapsed": false
   },
   "outputs": [],
   "source": []
  },
  {
   "cell_type": "code",
   "execution_count": 10,
   "metadata": {
    "collapsed": true
   },
   "outputs": [],
   "source": []
  },
  {
   "cell_type": "code",
   "execution_count": null,
   "metadata": {
    "collapsed": true
   },
   "outputs": [],
   "source": [
    "# Bayesian MLP\n",
    "\n",
    "# Hyperparameters\n",
    "middle_dim = window_length\n",
    "encoding_dim = 10\n",
    "reg = 1e-12\n",
    "ret_thresh = 1e-2\n",
    "\n",
    "input_w = Input(shape=(2*window_length,))\n",
    "\n",
    "in_layer = Dense(\n",
    "    middle_dim,\n",
    "    init='normal',\n",
    "    activation='tanh',\n",
    "    W_regularizer=l2(reg))(input_w)\n",
    "\n",
    "mid_layer = Dense(\n",
    "    encoding_dim,\n",
    "    init='normal', \n",
    "    activation='tanh',\n",
    "    W_regularizer=l2(reg))(in_layer)\n",
    "\n",
    "output = Dense(\n",
    "    1,\n",
    "    init='normal',\n",
    "    activation='sigmoid')(mid_layer)\n",
    "\n",
    "mlp_pred = Model(input=input_w, output=output)\n",
    "mlp_pred.compile(optimizer='adam', loss='binary_crossentropy')\n",
    "\n",
    "dm_y = (np.abs(aapl_y[:, 0]) > ret_thresh)*(1 / (2*aapl_y[:,0]))+0.5\n",
    "dm_val = (np.abs(val_y[:,0]) > ret_thresh)*(1 / (2*val_y[:,0]))+0.5\n",
    "\n",
    "aapl_f = np.concatenate( (aapl_rets, aapl_vol), axis=1)\n",
    "val_f = np.concatenate( (val_rets, val_vol), axis=1)\n",
    "\n",
    "mlp_pred.fit(\n",
    "    aapl_f, \n",
    "    dm_y, \n",
    "    batch_size=100,\n",
    "    nb_epoch=25,\n",
    "    shuffle=True, \n",
    "    validation_data=(val_f, dm_val) \n",
    ")"
   ]
  }
 ],
 "metadata": {
  "anaconda-cloud": {},
  "kernelspec": {
   "display_name": "Python [conda root]",
   "language": "python",
   "name": "conda-root-py"
  },
  "language_info": {
   "codemirror_mode": {
    "name": "ipython",
    "version": 3
   },
   "file_extension": ".py",
   "mimetype": "text/x-python",
   "name": "python",
   "nbconvert_exporter": "python",
   "pygments_lexer": "ipython3",
   "version": "3.5.2"
  }
 },
 "nbformat": 4,
 "nbformat_minor": 0
}
